{
 "cells": [
  {
   "cell_type": "markdown",
   "id": "77eccf76-08b6-4f91-8512-70a67f21e7ae",
   "metadata": {},
   "source": [
    "## ログファイルをCSVに変換\n",
    "\n",
    "このスクリプトはログファイルをCSVに変換するためのものです。\n",
    "`LOG_FILE_PATH`にログファイルのパスを入力してください。"
   ]
  },
  {
   "cell_type": "code",
   "execution_count": 1,
   "id": "d725b187-5270-43a0-87ea-5c7fe06d8724",
   "metadata": {
    "tags": []
   },
   "outputs": [],
   "source": [
    "# ここにログファイルのパスを入力\n",
    "LOG_FILE_PATH = 'l4_100ohm_215us_500V.log'"
   ]
  },
  {
   "cell_type": "markdown",
   "id": "f71b25d2-b6b8-45b7-8075-56fcacb9c9d0",
   "metadata": {
    "tags": []
   },
   "source": [
    "次に、JupyterLabの実行ボタン「▶▶」を押してください。"
   ]
  },
  {
   "cell_type": "code",
   "execution_count": 2,
   "id": "4c668c7e-9708-42c0-abcc-cd05ec4d0d16",
   "metadata": {
    "tags": []
   },
   "outputs": [
    {
     "name": "stdout",
     "output_type": "stream",
     "text": [
      "/Users/shuya/Documents/power-electronics/tools\n"
     ]
    }
   ],
   "source": [
    "import os\n",
    "import re\n",
    "\n",
    "print(os.getcwd())\n",
    "\n",
    "with open(LOG_FILE_PATH, 'r') as f:\n",
    "    l = [s.rstrip() for s in f.readlines()]\n",
    "    datas = list(filter(lambda ll : re.match('([0-9]+,)+', ll), l))\n",
    "    csv = ','.join(datas)\n",
    "    with open(LOG_FILE_PATH + '.csv', 'w') as f_csv:\n",
    "        f_csv.write(csv)"
   ]
  },
  {
   "cell_type": "code",
   "execution_count": null,
   "id": "decb64b0-d272-4308-9d88-baa3a3e41759",
   "metadata": {},
   "outputs": [],
   "source": []
  }
 ],
 "metadata": {
  "kernelspec": {
   "display_name": "Python 3 (ipykernel)",
   "language": "python",
   "name": "python3"
  },
  "language_info": {
   "codemirror_mode": {
    "name": "ipython",
    "version": 3
   },
   "file_extension": ".py",
   "mimetype": "text/x-python",
   "name": "python",
   "nbconvert_exporter": "python",
   "pygments_lexer": "ipython3",
   "version": "3.8.16"
  }
 },
 "nbformat": 4,
 "nbformat_minor": 5
}
